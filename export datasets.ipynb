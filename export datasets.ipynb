{
 "cells": [
  {
   "cell_type": "code",
   "execution_count": 2,
   "metadata": {},
   "outputs": [
    {
     "name": "stderr",
     "output_type": "stream",
     "text": [
      "Warning message:\n",
      "“package ‘fpp3’ was built under R version 3.6.2”── \u001b[1mAttaching packages\u001b[22m ────────────────────────────────────────────── fpp3 0.3 ──\n",
      "\u001b[32m✔\u001b[39m \u001b[34mtibble     \u001b[39m 3.0.3     \u001b[32m✔\u001b[39m \u001b[34mtsibble    \u001b[39m 0.9.2\n",
      "\u001b[32m✔\u001b[39m \u001b[34mdplyr      \u001b[39m 1.0.2     \u001b[32m✔\u001b[39m \u001b[34mtsibbledata\u001b[39m 0.2.0\n",
      "\u001b[32m✔\u001b[39m \u001b[34mtidyr      \u001b[39m 1.1.2     \u001b[32m✔\u001b[39m \u001b[34mfeasts     \u001b[39m 0.1.5\n",
      "\u001b[32m✔\u001b[39m \u001b[34mlubridate  \u001b[39m 1.7.4     \u001b[32m✔\u001b[39m \u001b[34mfable      \u001b[39m 0.2.1\n",
      "\u001b[32m✔\u001b[39m \u001b[34mggplot2    \u001b[39m 3.3.2     \n",
      "Warning message:\n",
      "“package ‘tibble’ was built under R version 3.6.2”Warning message:\n",
      "“package ‘dplyr’ was built under R version 3.6.2”Warning message:\n",
      "“package ‘tidyr’ was built under R version 3.6.2”Warning message:\n",
      "“package ‘ggplot2’ was built under R version 3.6.2”Warning message:\n",
      "“package ‘tsibble’ was built under R version 3.6.2”Warning message:\n",
      "“package ‘tsibbledata’ was built under R version 3.6.2”Warning message:\n",
      "“package ‘feasts’ was built under R version 3.6.2”Warning message:\n",
      "“package ‘fabletools’ was built under R version 3.6.2”Warning message:\n",
      "“package ‘fable’ was built under R version 3.6.2”── \u001b[1mConflicts\u001b[22m ───────────────────────────────────────────────── fpp3_conflicts ──\n",
      "\u001b[31m✖\u001b[39m \u001b[34mlubridate\u001b[39m::\u001b[32mdate()\u001b[39m       masks \u001b[34mbase\u001b[39m::date()\n",
      "\u001b[31m✖\u001b[39m \u001b[34mdplyr\u001b[39m::\u001b[32mfilter()\u001b[39m         masks \u001b[34mstats\u001b[39m::filter()\n",
      "\u001b[31m✖\u001b[39m \u001b[34mtsibble\u001b[39m::\u001b[32minterval()\u001b[39m     masks \u001b[34mlubridate\u001b[39m::interval()\n",
      "\u001b[31m✖\u001b[39m \u001b[34mdplyr\u001b[39m::\u001b[32mlag()\u001b[39m            masks \u001b[34mstats\u001b[39m::lag()\n",
      "\u001b[31m✖\u001b[39m \u001b[34mtsibble\u001b[39m::\u001b[32mnew_interval()\u001b[39m masks \u001b[34mlubridate\u001b[39m::new_interval()\n"
     ]
    }
   ],
   "source": [
    "library(fpp3)"
   ]
  },
  {
   "cell_type": "code",
   "execution_count": 3,
   "metadata": {},
   "outputs": [],
   "source": [
    "export_data = function(data, name){\n",
    "    data %>% readr::write_csv(paste0('./data/', name, '.csv'))\n",
    "}"
   ]
  },
  {
   "cell_type": "code",
   "execution_count": 17,
   "metadata": {},
   "outputs": [],
   "source": [
    "export_data(olympic_running, 'olympic_running')"
   ]
  },
  {
   "cell_type": "code",
   "execution_count": 15,
   "metadata": {},
   "outputs": [],
   "source": [
    "export_data(PBS, 'PBS')"
   ]
  },
  {
   "cell_type": "code",
   "execution_count": 16,
   "metadata": {},
   "outputs": [],
   "source": [
    "export_data(ansett, 'ansett')"
   ]
  },
  {
   "cell_type": "code",
   "execution_count": 18,
   "metadata": {},
   "outputs": [],
   "source": [
    "export_data(vic_elec, 'vic_elec')"
   ]
  },
  {
   "cell_type": "code",
   "execution_count": 19,
   "metadata": {},
   "outputs": [],
   "source": [
    "export_data(tourism, 'tourism')"
   ]
  },
  {
   "cell_type": "code",
   "execution_count": 20,
   "metadata": {},
   "outputs": [],
   "source": [
    "export_data(aus_production, 'aus_production')"
   ]
  },
  {
   "cell_type": "code",
   "execution_count": 21,
   "metadata": {},
   "outputs": [],
   "source": [
    "export_data(global_economy, 'global_economy')"
   ]
  },
  {
   "cell_type": "code",
   "execution_count": 22,
   "metadata": {},
   "outputs": [],
   "source": [
    "export_data(aus_retail, 'aus_retail')"
   ]
  },
  {
   "cell_type": "code",
   "execution_count": 4,
   "metadata": {},
   "outputs": [],
   "source": [
    "export_data(us_employment, 'us_employment')"
   ]
  }
 ],
 "metadata": {
  "kernelspec": {
   "display_name": "R",
   "language": "R",
   "name": "ir"
  },
  "language_info": {
   "codemirror_mode": "r",
   "file_extension": ".r",
   "mimetype": "text/x-r-source",
   "name": "R",
   "pygments_lexer": "r",
   "version": "3.6.1"
  }
 },
 "nbformat": 4,
 "nbformat_minor": 4
}
